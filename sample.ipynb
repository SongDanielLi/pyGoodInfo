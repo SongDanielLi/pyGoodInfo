{
 "metadata": {
  "language_info": {
   "codemirror_mode": {
    "name": "ipython",
    "version": 3
   },
   "file_extension": ".py",
   "mimetype": "text/x-python",
   "name": "python",
   "nbconvert_exporter": "python",
   "pygments_lexer": "ipython3",
   "version": "3.6.5-final"
  },
  "orig_nbformat": 2,
  "kernelspec": {
   "name": "python3",
   "display_name": "Python 3",
   "language": "python"
  }
 },
 "nbformat": 4,
 "nbformat_minor": 2,
 "cells": [
  {
   "cell_type": "code",
   "execution_count": 1,
   "metadata": {},
   "outputs": [],
   "source": [
    "import pandas as pd\n",
    "from goodinfo import GoodInfoStock"
   ]
  },
  {
   "source": [
    "## Initial class"
   ],
   "cell_type": "markdown",
   "metadata": {}
  },
  {
   "cell_type": "code",
   "execution_count": 2,
   "metadata": {},
   "outputs": [
    {
     "output_type": "stream",
     "name": "stdout",
     "text": [
      "True\n"
     ]
    }
   ],
   "source": [
    "sid = 2330\n",
    "stock = GoodInfoStock(sid)\n",
    "print(stock.success)"
   ]
  },
  {
   "source": [],
   "cell_type": "markdown",
   "metadata": {}
  },
  {
   "source": [
    "## Basic Info"
   ],
   "cell_type": "markdown",
   "metadata": {}
  },
  {
   "cell_type": "code",
   "execution_count": 3,
   "metadata": {},
   "outputs": [
    {
     "output_type": "stream",
     "name": "stdout",
     "text": [
      "成交價                            673\n昨收                             647\n漲跌價                            +26\n漲跌幅                         +4.02%\n振幅                           6.03%\n開盤                             640\n最高                             679\n最低                             640\n成交張數                        97,590\n成交金額                        646.2億\n成交筆數                       115,004\n成交均張                        0.8張/筆\n成交均價                        662.2元\nPBR                           9.76\nPER                          35.51\nPEG                           0.72\n昨日張數                        95,484\n昨日金額                        612.8億\n昨日筆數                        95,577\n昨日均張                          1張/筆\n昨日均價                        641.8元\n昨漲跌價 (幅)               +20(+3.19%)\n連漲連跌             連5漲(+81元/+13.68%)\n財報評分                   最新89分/平均91分\n上市指數        16153.77(347.59/+2.2%)\ndtype: object\n"
     ]
    }
   ],
   "source": [
    "basic = stock.BasicInfo()\n",
    "print(pd.Series(basic))"
   ]
  },
  {
   "source": [
    "## News"
   ],
   "cell_type": "markdown",
   "metadata": {}
  },
  {
   "cell_type": "code",
   "execution_count": 4,
   "metadata": {},
   "outputs": [
    {
     "output_type": "execute_result",
     "data": {
      "text/plain": [
       "                             title  \\\n",
       "0                 台積電為何飆不停？哪些會接棒上來   \n",
       "1             台積電帶頭再創高  還有哪些護國神山群？   \n",
       "2  台股登萬六寫八大驚奇 13個交易日急漲千點、兩座護國神山飆天價   \n",
       "3    台積電、聯發科股價井噴　他喊「竹科快買房」：最後上車機會！   \n",
       "4    三大法人買超台股33.32億元 外資持續提款台積電及金控股   \n",
       "\n",
       "                                                link  \n",
       "0  https://news.cnyes.com/news/id/4562331?utm%5Fs...  \n",
       "1  https://news.cnyes.com/news/id/4562285?utm%5Fs...  \n",
       "2  https://news.cnyes.com/news/id/4562377?utm%5Fs...  \n",
       "3  https://www.ettoday.net/news/20210121/1903627....  \n",
       "4  https://news.cnyes.com/news/id/4562335?utm%5Fs...  "
      ],
      "text/html": "<div>\n<style scoped>\n    .dataframe tbody tr th:only-of-type {\n        vertical-align: middle;\n    }\n\n    .dataframe tbody tr th {\n        vertical-align: top;\n    }\n\n    .dataframe thead th {\n        text-align: right;\n    }\n</style>\n<table border=\"1\" class=\"dataframe\">\n  <thead>\n    <tr style=\"text-align: right;\">\n      <th></th>\n      <th>title</th>\n      <th>link</th>\n    </tr>\n  </thead>\n  <tbody>\n    <tr>\n      <td>0</td>\n      <td>台積電為何飆不停？哪些會接棒上來</td>\n      <td>https://news.cnyes.com/news/id/4562331?utm%5Fs...</td>\n    </tr>\n    <tr>\n      <td>1</td>\n      <td>台積電帶頭再創高  還有哪些護國神山群？</td>\n      <td>https://news.cnyes.com/news/id/4562285?utm%5Fs...</td>\n    </tr>\n    <tr>\n      <td>2</td>\n      <td>台股登萬六寫八大驚奇 13個交易日急漲千點、兩座護國神山飆天價</td>\n      <td>https://news.cnyes.com/news/id/4562377?utm%5Fs...</td>\n    </tr>\n    <tr>\n      <td>3</td>\n      <td>台積電、聯發科股價井噴　他喊「竹科快買房」：最後上車機會！</td>\n      <td>https://www.ettoday.net/news/20210121/1903627....</td>\n    </tr>\n    <tr>\n      <td>4</td>\n      <td>三大法人買超台股33.32億元 外資持續提款台積電及金控股</td>\n      <td>https://news.cnyes.com/news/id/4562335?utm%5Fs...</td>\n    </tr>\n  </tbody>\n</table>\n</div>"
     },
     "metadata": {},
     "execution_count": 4
    }
   ],
   "source": [
    "news = stock.News()\n",
    "df_news = pd.DataFrame(news)\n",
    "df_news.head()"
   ]
  },
  {
   "source": [
    "## Company Info"
   ],
   "cell_type": "markdown",
   "metadata": {}
  },
  {
   "cell_type": "code",
   "execution_count": 5,
   "metadata": {},
   "outputs": [
    {
     "output_type": "stream",
     "name": "stdout",
     "text": [
      "名稱                                            台灣積體電路製造股份有限公司\n產業別                                                     半導體業\n市/ 櫃                                                      上市\n面值                                                    新台幣10元\n資本額                                                   2,593億\n市值                                                    17.45兆\n成立日                                        1987/02/21  [33年]\n上市日                                        1994/09/05  [26年]\n董事長                                                      劉德音\n總經理                                                  總裁: 魏哲家\n發言人                                                      黃仁昭\n代理人                                                      高孟華\n網址                                              www.tsmc.com\n地址                                              新竹科學園區力行六路8號\n公司債                                                        有\n私募股                                                        -\n特別股                                                        -\n主 要 業 務    依客戶之訂單與其提供之產品設計說明，以從事製造與銷售積體電路以及其他晶圓半導體裝置。提供前述...\ndtype: object\n"
     ]
    }
   ],
   "source": [
    "company = stock.CompanyInfo()\n",
    "print(pd.Series(company))"
   ]
  },
  {
   "source": [
    "## KLines"
   ],
   "cell_type": "markdown",
   "metadata": {}
  },
  {
   "cell_type": "code",
   "execution_count": 6,
   "metadata": {},
   "outputs": [
    {
     "output_type": "stream",
     "name": "stdout",
     "text": [
      "5日     0.71\n10日    0.97\n一個月    0.99\n三個月    1.42\n半年     1.52\n一年     1.21\n三年     1.34\n五年     1.35\n十年     1.21\n二十年    1.14\ndtype: object\n"
     ]
    },
    {
     "output_type": "execute_result",
     "data": {
      "text/plain": [
       "       累計漲跌價   累計漲跌幅   區間振幅 成交量週轉率    均線落點   均線乖離率\n",
       "統計區間                                              \n",
       "5日       +81  +13.7%  14.4%  1.53%    631↗  +6.66%\n",
       "10日     +108  +19.1%  19.1%  2.82%  610.7↗  +10.2%\n",
       "月       +164  +32.2%    34%  4.16%  567.3↗  +18.6%\n",
       "季       +218  +47.9%  55.2%  11.5%  511.5↗  +31.6%\n",
       "半年    +291.5  +76.4%  77.8%  23.4%  474.2↗  +41.9%"
      ],
      "text/html": "<div>\n<style scoped>\n    .dataframe tbody tr th:only-of-type {\n        vertical-align: middle;\n    }\n\n    .dataframe tbody tr th {\n        vertical-align: top;\n    }\n\n    .dataframe thead th {\n        text-align: right;\n    }\n</style>\n<table border=\"1\" class=\"dataframe\">\n  <thead>\n    <tr style=\"text-align: right;\">\n      <th></th>\n      <th>累計漲跌價</th>\n      <th>累計漲跌幅</th>\n      <th>區間振幅</th>\n      <th>成交量週轉率</th>\n      <th>均線落點</th>\n      <th>均線乖離率</th>\n    </tr>\n    <tr>\n      <th>統計區間</th>\n      <th></th>\n      <th></th>\n      <th></th>\n      <th></th>\n      <th></th>\n      <th></th>\n    </tr>\n  </thead>\n  <tbody>\n    <tr>\n      <td>5日</td>\n      <td>+81</td>\n      <td>+13.7%</td>\n      <td>14.4%</td>\n      <td>1.53%</td>\n      <td>631↗</td>\n      <td>+6.66%</td>\n    </tr>\n    <tr>\n      <td>10日</td>\n      <td>+108</td>\n      <td>+19.1%</td>\n      <td>19.1%</td>\n      <td>2.82%</td>\n      <td>610.7↗</td>\n      <td>+10.2%</td>\n    </tr>\n    <tr>\n      <td>月</td>\n      <td>+164</td>\n      <td>+32.2%</td>\n      <td>34%</td>\n      <td>4.16%</td>\n      <td>567.3↗</td>\n      <td>+18.6%</td>\n    </tr>\n    <tr>\n      <td>季</td>\n      <td>+218</td>\n      <td>+47.9%</td>\n      <td>55.2%</td>\n      <td>11.5%</td>\n      <td>511.5↗</td>\n      <td>+31.6%</td>\n    </tr>\n    <tr>\n      <td>半年</td>\n      <td>+291.5</td>\n      <td>+76.4%</td>\n      <td>77.8%</td>\n      <td>23.4%</td>\n      <td>474.2↗</td>\n      <td>+41.9%</td>\n    </tr>\n  </tbody>\n</table>\n</div>"
     },
     "metadata": {},
     "execution_count": 6
    }
   ],
   "source": [
    "risk, kline = stock.KLineInfo()\n",
    "\n",
    "print(pd.Series(risk))\n",
    "kline.head()"
   ]
  },
  {
   "source": [
    "## 法人"
   ],
   "cell_type": "markdown",
   "metadata": {}
  },
  {
   "cell_type": "code",
   "execution_count": 7,
   "metadata": {},
   "outputs": [
    {
     "output_type": "execute_result",
     "data": {
      "text/plain": [
       "     買進(張)  賣出(張)     買賣超    連買連賣      持有張數     持股比\n",
       "nan                                                \n",
       "外資   25014  42929  -17915    買→2賣  19820905  76.43%\n",
       "投信     545   1877   -1332  連2買→3賣       NaN     NaN\n",
       "自營商   2766   1386  +1,380     賣→買       NaN     NaN\n",
       "合計   28325  46192  -17867    買→2賣       NaN     NaN"
      ],
      "text/html": "<div>\n<style scoped>\n    .dataframe tbody tr th:only-of-type {\n        vertical-align: middle;\n    }\n\n    .dataframe tbody tr th {\n        vertical-align: top;\n    }\n\n    .dataframe thead th {\n        text-align: right;\n    }\n</style>\n<table border=\"1\" class=\"dataframe\">\n  <thead>\n    <tr style=\"text-align: right;\">\n      <th></th>\n      <th>買進(張)</th>\n      <th>賣出(張)</th>\n      <th>買賣超</th>\n      <th>連買連賣</th>\n      <th>持有張數</th>\n      <th>持股比</th>\n    </tr>\n    <tr>\n      <th>nan</th>\n      <th></th>\n      <th></th>\n      <th></th>\n      <th></th>\n      <th></th>\n      <th></th>\n    </tr>\n  </thead>\n  <tbody>\n    <tr>\n      <td>外資</td>\n      <td>25014</td>\n      <td>42929</td>\n      <td>-17915</td>\n      <td>買→2賣</td>\n      <td>19820905</td>\n      <td>76.43%</td>\n    </tr>\n    <tr>\n      <td>投信</td>\n      <td>545</td>\n      <td>1877</td>\n      <td>-1332</td>\n      <td>連2買→3賣</td>\n      <td>NaN</td>\n      <td>NaN</td>\n    </tr>\n    <tr>\n      <td>自營商</td>\n      <td>2766</td>\n      <td>1386</td>\n      <td>+1,380</td>\n      <td>賣→買</td>\n      <td>NaN</td>\n      <td>NaN</td>\n    </tr>\n    <tr>\n      <td>合計</td>\n      <td>28325</td>\n      <td>46192</td>\n      <td>-17867</td>\n      <td>買→2賣</td>\n      <td>NaN</td>\n      <td>NaN</td>\n    </tr>\n  </tbody>\n</table>\n</div>"
     },
     "metadata": {},
     "execution_count": 7
    }
   ],
   "source": [
    "df = stock.InstitutionalInvestors()\n",
    "df.head()"
   ]
  },
  {
   "source": [
    "## 融資融券"
   ],
   "cell_type": "markdown",
   "metadata": {}
  },
  {
   "cell_type": "code",
   "execution_count": 8,
   "metadata": {},
   "outputs": [
    {
     "output_type": "stream",
     "name": "stdout",
     "text": [
      "融資\n\n買進         4,677\n賣出         1,935\n現償            50\n餘額        31,431\n增減        +2,692\n使用率         0.5%\n資券互抵          56\n資券當沖        0.1%\n連續增減日數       減→增\ndtype: object\n融券\n\n買進               275\n賣出               460\n現償                 0\n餘額             1,648\n增減              +185\n使用率               0%\n券資比       5.24%減→連2增\n連續增減日數         減→連2增\ndtype: object\n"
     ]
    }
   ],
   "source": [
    "mtss = stock.MarginTradingShortSale()\n",
    "print('融資\\n')\n",
    "print(pd.Series(mtss['融資']))\n",
    "print('融券\\n')\n",
    "print(pd.Series(mtss['融券']))"
   ]
  },
  {
   "source": [
    "## 現股當沖"
   ],
   "cell_type": "markdown",
   "metadata": {}
  },
  {
   "cell_type": "code",
   "execution_count": 9,
   "metadata": {},
   "outputs": [
    {
     "output_type": "execute_result",
     "data": {
      "text/plain": [
       "            成交張數        買進金額        賣出金額     損益金額\n",
       "nan                                              \n",
       "張/金額(元)  30,964張  2,046,591萬  2,050,917萬  +4,325萬\n",
       "當沖率       31.73%      31.67%      31.74%      NaN"
      ],
      "text/html": "<div>\n<style scoped>\n    .dataframe tbody tr th:only-of-type {\n        vertical-align: middle;\n    }\n\n    .dataframe tbody tr th {\n        vertical-align: top;\n    }\n\n    .dataframe thead th {\n        text-align: right;\n    }\n</style>\n<table border=\"1\" class=\"dataframe\">\n  <thead>\n    <tr style=\"text-align: right;\">\n      <th></th>\n      <th>成交張數</th>\n      <th>買進金額</th>\n      <th>賣出金額</th>\n      <th>損益金額</th>\n    </tr>\n    <tr>\n      <th>nan</th>\n      <th></th>\n      <th></th>\n      <th></th>\n      <th></th>\n    </tr>\n  </thead>\n  <tbody>\n    <tr>\n      <td>張/金額(元)</td>\n      <td>30,964張</td>\n      <td>2,046,591萬</td>\n      <td>2,050,917萬</td>\n      <td>+4,325萬</td>\n    </tr>\n    <tr>\n      <td>當沖率</td>\n      <td>31.73%</td>\n      <td>31.67%</td>\n      <td>31.74%</td>\n      <td>NaN</td>\n    </tr>\n  </tbody>\n</table>\n</div>"
     },
     "metadata": {},
     "execution_count": 9
    }
   ],
   "source": [
    "daytrade = stock.DayTrading()\n",
    "daytrade"
   ]
  },
  {
   "source": [
    "## 股利"
   ],
   "cell_type": "markdown",
   "metadata": {}
  },
  {
   "cell_type": "code",
   "execution_count": 10,
   "metadata": {},
   "outputs": [
    {
     "output_type": "execute_result",
     "data": {
      "text/plain": [
       "        現金 股票    合計\n",
       "發放年度               \n",
       "2021   2.5  0   2.5\n",
       "2020    10  0    10\n",
       "2019  12.5  0  12.5\n",
       "2018     8  0     8\n",
       "2017     7  0     7"
      ],
      "text/html": "<div>\n<style scoped>\n    .dataframe tbody tr th:only-of-type {\n        vertical-align: middle;\n    }\n\n    .dataframe tbody tr th {\n        vertical-align: top;\n    }\n\n    .dataframe thead th {\n        text-align: right;\n    }\n</style>\n<table border=\"1\" class=\"dataframe\">\n  <thead>\n    <tr style=\"text-align: right;\">\n      <th></th>\n      <th>現金</th>\n      <th>股票</th>\n      <th>合計</th>\n    </tr>\n    <tr>\n      <th>發放年度</th>\n      <th></th>\n      <th></th>\n      <th></th>\n    </tr>\n  </thead>\n  <tbody>\n    <tr>\n      <td>2021</td>\n      <td>2.5</td>\n      <td>0</td>\n      <td>2.5</td>\n    </tr>\n    <tr>\n      <td>2020</td>\n      <td>10</td>\n      <td>0</td>\n      <td>10</td>\n    </tr>\n    <tr>\n      <td>2019</td>\n      <td>12.5</td>\n      <td>0</td>\n      <td>12.5</td>\n    </tr>\n    <tr>\n      <td>2018</td>\n      <td>8</td>\n      <td>0</td>\n      <td>8</td>\n    </tr>\n    <tr>\n      <td>2017</td>\n      <td>7</td>\n      <td>0</td>\n      <td>7</td>\n    </tr>\n  </tbody>\n</table>\n</div>"
     },
     "metadata": {},
     "execution_count": 10
    }
   ],
   "source": [
    "dividend = stock.Dividend()\n",
    "dividend.head()"
   ]
  },
  {
   "source": [
    "## 月營收"
   ],
   "cell_type": "markdown",
   "metadata": {}
  },
  {
   "cell_type": "code",
   "execution_count": 11,
   "metadata": {},
   "outputs": [
    {
     "output_type": "execute_result",
     "data": {
      "text/plain": [
       "  2020/12         歷史排名 創近期新高/新低   連續增減\n",
       "1    單月營收  第6高(共283個月)    5個月新低      -\n",
       "2    累月營收   歷史最高(共24年)    24年新高  連增11年"
      ],
      "text/html": "<div>\n<style scoped>\n    .dataframe tbody tr th:only-of-type {\n        vertical-align: middle;\n    }\n\n    .dataframe tbody tr th {\n        vertical-align: top;\n    }\n\n    .dataframe thead th {\n        text-align: right;\n    }\n</style>\n<table border=\"1\" class=\"dataframe\">\n  <thead>\n    <tr style=\"text-align: right;\">\n      <th></th>\n      <th>2020/12</th>\n      <th>歷史排名</th>\n      <th>創近期新高/新低</th>\n      <th>連續增減</th>\n    </tr>\n  </thead>\n  <tbody>\n    <tr>\n      <td>1</td>\n      <td>單月營收</td>\n      <td>第6高(共283個月)</td>\n      <td>5個月新低</td>\n      <td>-</td>\n    </tr>\n    <tr>\n      <td>2</td>\n      <td>累月營收</td>\n      <td>歷史最高(共24年)</td>\n      <td>24年新高</td>\n      <td>連增11年</td>\n    </tr>\n  </tbody>\n</table>\n</div>"
     },
     "metadata": {},
     "execution_count": 11
    }
   ],
   "source": [
    "rankm, month = stock.MonthReport()\n",
    "rankm.head()"
   ]
  },
  {
   "cell_type": "code",
   "execution_count": 12,
   "metadata": {},
   "outputs": [
    {
     "output_type": "execute_result",
     "data": {
      "text/plain": [
       "       單月營收                累計月營收       \n",
       "         億元    月增%    年增%     億元    年增%\n",
       "0                                      \n",
       "20/12  1174     -6  +13.6  13393  +25.2\n",
       "20/11  1249  +4.66  +15.7  12219  +26.4\n",
       "20/10  1193  -6.49  +12.5  10970  +27.7\n",
       "20/09  1276  +3.83  +24.9   9777  +29.9\n",
       "20/08  1229    +16  +15.8   8501  +30.7"
      ],
      "text/html": "<div>\n<style scoped>\n    .dataframe tbody tr th:only-of-type {\n        vertical-align: middle;\n    }\n\n    .dataframe tbody tr th {\n        vertical-align: top;\n    }\n\n    .dataframe thead tr th {\n        text-align: left;\n    }\n\n    .dataframe thead tr:last-of-type th {\n        text-align: right;\n    }\n</style>\n<table border=\"1\" class=\"dataframe\">\n  <thead>\n    <tr>\n      <th></th>\n      <th colspan=\"3\" halign=\"left\">單月營收</th>\n      <th colspan=\"2\" halign=\"left\">累計月營收</th>\n    </tr>\n    <tr>\n      <th></th>\n      <th>億元</th>\n      <th>月增%</th>\n      <th>年增%</th>\n      <th>億元</th>\n      <th>年增%</th>\n    </tr>\n    <tr>\n      <th>0</th>\n      <th></th>\n      <th></th>\n      <th></th>\n      <th></th>\n      <th></th>\n    </tr>\n  </thead>\n  <tbody>\n    <tr>\n      <td>20/12</td>\n      <td>1174</td>\n      <td>-6</td>\n      <td>+13.6</td>\n      <td>13393</td>\n      <td>+25.2</td>\n    </tr>\n    <tr>\n      <td>20/11</td>\n      <td>1249</td>\n      <td>+4.66</td>\n      <td>+15.7</td>\n      <td>12219</td>\n      <td>+26.4</td>\n    </tr>\n    <tr>\n      <td>20/10</td>\n      <td>1193</td>\n      <td>-6.49</td>\n      <td>+12.5</td>\n      <td>10970</td>\n      <td>+27.7</td>\n    </tr>\n    <tr>\n      <td>20/09</td>\n      <td>1276</td>\n      <td>+3.83</td>\n      <td>+24.9</td>\n      <td>9777</td>\n      <td>+29.9</td>\n    </tr>\n    <tr>\n      <td>20/08</td>\n      <td>1229</td>\n      <td>+16</td>\n      <td>+15.8</td>\n      <td>8501</td>\n      <td>+30.7</td>\n    </tr>\n  </tbody>\n</table>\n</div>"
     },
     "metadata": {},
     "execution_count": 12
    }
   ],
   "source": [
    "month.head()"
   ]
  },
  {
   "source": [
    "## 獲利狀況"
   ],
   "cell_type": "markdown",
   "metadata": {}
  },
  {
   "cell_type": "code",
   "execution_count": 13,
   "metadata": {},
   "outputs": [
    {
     "output_type": "execute_result",
     "data": {
      "text/plain": [
       "          營收(億) 稅後淨利(億) 毛利(%) 營業利益(%) 稅後淨利(%)    ROE(%) EPS(元)\n",
       "年/季                                                           \n",
       "20Q3(累季)   9777    3751  52.8    41.9    38.4  29.3(年估)  14.47\n",
       "2019      10700    3453    46    34.8    32.3      20.9  13.32\n",
       "2018      10315    3511  48.3    37.2      34      21.9  13.54\n",
       "2017       9774    3431  50.6    39.4    35.1      23.6  13.23\n",
       "2016       9479    3342  50.1    39.9    35.3      25.6  12.89"
      ],
      "text/html": "<div>\n<style scoped>\n    .dataframe tbody tr th:only-of-type {\n        vertical-align: middle;\n    }\n\n    .dataframe tbody tr th {\n        vertical-align: top;\n    }\n\n    .dataframe thead th {\n        text-align: right;\n    }\n</style>\n<table border=\"1\" class=\"dataframe\">\n  <thead>\n    <tr style=\"text-align: right;\">\n      <th></th>\n      <th>營收(億)</th>\n      <th>稅後淨利(億)</th>\n      <th>毛利(%)</th>\n      <th>營業利益(%)</th>\n      <th>稅後淨利(%)</th>\n      <th>ROE(%)</th>\n      <th>EPS(元)</th>\n    </tr>\n    <tr>\n      <th>年/季</th>\n      <th></th>\n      <th></th>\n      <th></th>\n      <th></th>\n      <th></th>\n      <th></th>\n      <th></th>\n    </tr>\n  </thead>\n  <tbody>\n    <tr>\n      <td>20Q3(累季)</td>\n      <td>9777</td>\n      <td>3751</td>\n      <td>52.8</td>\n      <td>41.9</td>\n      <td>38.4</td>\n      <td>29.3(年估)</td>\n      <td>14.47</td>\n    </tr>\n    <tr>\n      <td>2019</td>\n      <td>10700</td>\n      <td>3453</td>\n      <td>46</td>\n      <td>34.8</td>\n      <td>32.3</td>\n      <td>20.9</td>\n      <td>13.32</td>\n    </tr>\n    <tr>\n      <td>2018</td>\n      <td>10315</td>\n      <td>3511</td>\n      <td>48.3</td>\n      <td>37.2</td>\n      <td>34</td>\n      <td>21.9</td>\n      <td>13.54</td>\n    </tr>\n    <tr>\n      <td>2017</td>\n      <td>9774</td>\n      <td>3431</td>\n      <td>50.6</td>\n      <td>39.4</td>\n      <td>35.1</td>\n      <td>23.6</td>\n      <td>13.23</td>\n    </tr>\n    <tr>\n      <td>2016</td>\n      <td>9479</td>\n      <td>3342</td>\n      <td>50.1</td>\n      <td>39.9</td>\n      <td>35.3</td>\n      <td>25.6</td>\n      <td>12.89</td>\n    </tr>\n  </tbody>\n</table>\n</div>"
     },
     "metadata": {},
     "execution_count": 13
    }
   ],
   "source": [
    "profit = stock.Profit()\n",
    "profit.head()"
   ]
  },
  {
   "source": [
    "## 資產負債"
   ],
   "cell_type": "markdown",
   "metadata": {}
  },
  {
   "cell_type": "code",
   "execution_count": 14,
   "metadata": {},
   "outputs": [
    {
     "output_type": "execute_result",
     "data": {
      "text/plain": [
       "        現金  應收帳款    存貨  基金投資  負債總額  現金流量(%) BPS(元)\n",
       "年/季                                               \n",
       "20Q3  22.9  6.17  4.16  1.01  32.1  128(年估)  68.93\n",
       "2019  20.1  6.17  3.66  1.33  28.4      104  62.53\n",
       "2018  27.6  6.18  4.94   1.4  19.7      169  64.67\n",
       "2017  27.8  6.15  3.71  2.09  23.6      163   58.7\n",
       "2016  28.7  6.86  2.58  2.45  26.3      170  53.58"
      ],
      "text/html": "<div>\n<style scoped>\n    .dataframe tbody tr th:only-of-type {\n        vertical-align: middle;\n    }\n\n    .dataframe tbody tr th {\n        vertical-align: top;\n    }\n\n    .dataframe thead th {\n        text-align: right;\n    }\n</style>\n<table border=\"1\" class=\"dataframe\">\n  <thead>\n    <tr style=\"text-align: right;\">\n      <th></th>\n      <th>現金</th>\n      <th>應收帳款</th>\n      <th>存貨</th>\n      <th>基金投資</th>\n      <th>負債總額</th>\n      <th>現金流量(%)</th>\n      <th>BPS(元)</th>\n    </tr>\n    <tr>\n      <th>年/季</th>\n      <th></th>\n      <th></th>\n      <th></th>\n      <th></th>\n      <th></th>\n      <th></th>\n      <th></th>\n    </tr>\n  </thead>\n  <tbody>\n    <tr>\n      <td>20Q3</td>\n      <td>22.9</td>\n      <td>6.17</td>\n      <td>4.16</td>\n      <td>1.01</td>\n      <td>32.1</td>\n      <td>128(年估)</td>\n      <td>68.93</td>\n    </tr>\n    <tr>\n      <td>2019</td>\n      <td>20.1</td>\n      <td>6.17</td>\n      <td>3.66</td>\n      <td>1.33</td>\n      <td>28.4</td>\n      <td>104</td>\n      <td>62.53</td>\n    </tr>\n    <tr>\n      <td>2018</td>\n      <td>27.6</td>\n      <td>6.18</td>\n      <td>4.94</td>\n      <td>1.4</td>\n      <td>19.7</td>\n      <td>169</td>\n      <td>64.67</td>\n    </tr>\n    <tr>\n      <td>2017</td>\n      <td>27.8</td>\n      <td>6.15</td>\n      <td>3.71</td>\n      <td>2.09</td>\n      <td>23.6</td>\n      <td>163</td>\n      <td>58.7</td>\n    </tr>\n    <tr>\n      <td>2016</td>\n      <td>28.7</td>\n      <td>6.86</td>\n      <td>2.58</td>\n      <td>2.45</td>\n      <td>26.3</td>\n      <td>170</td>\n      <td>53.58</td>\n    </tr>\n  </tbody>\n</table>\n</div>"
     },
     "metadata": {},
     "execution_count": 14
    }
   ],
   "source": [
    "al = stock.AssetLiabilities()\n",
    "al.head()"
   ]
  },
  {
   "source": [
    "## 現金流量"
   ],
   "cell_type": "markdown",
   "metadata": {}
  },
  {
   "cell_type": "code",
   "execution_count": 15,
   "metadata": {},
   "outputs": [
    {
     "output_type": "execute_result",
     "data": {
      "text/plain": [
       "         營業活動(億) 投資活動(億) 融資活動(億) 其他活動(億) 本期增減(億) 現金餘額(億)\n",
       "年/季                                                     \n",
       "20Q3(累季)  +5,635   -4148    +126    -125  +1,488    6042\n",
       "2019      +6,151   -4588   -2696   -91.1   -1224    4554\n",
       "2018      +5,740   -3143   -2451   +98.6    +244    5778\n",
       "2017      +5,853   -3362   -2157    -213    +121    5534\n",
       "2016      +5,398   -3954   -1578   -80.3    -214    5413"
      ],
      "text/html": "<div>\n<style scoped>\n    .dataframe tbody tr th:only-of-type {\n        vertical-align: middle;\n    }\n\n    .dataframe tbody tr th {\n        vertical-align: top;\n    }\n\n    .dataframe thead th {\n        text-align: right;\n    }\n</style>\n<table border=\"1\" class=\"dataframe\">\n  <thead>\n    <tr style=\"text-align: right;\">\n      <th></th>\n      <th>營業活動(億)</th>\n      <th>投資活動(億)</th>\n      <th>融資活動(億)</th>\n      <th>其他活動(億)</th>\n      <th>本期增減(億)</th>\n      <th>現金餘額(億)</th>\n    </tr>\n    <tr>\n      <th>年/季</th>\n      <th></th>\n      <th></th>\n      <th></th>\n      <th></th>\n      <th></th>\n      <th></th>\n    </tr>\n  </thead>\n  <tbody>\n    <tr>\n      <td>20Q3(累季)</td>\n      <td>+5,635</td>\n      <td>-4148</td>\n      <td>+126</td>\n      <td>-125</td>\n      <td>+1,488</td>\n      <td>6042</td>\n    </tr>\n    <tr>\n      <td>2019</td>\n      <td>+6,151</td>\n      <td>-4588</td>\n      <td>-2696</td>\n      <td>-91.1</td>\n      <td>-1224</td>\n      <td>4554</td>\n    </tr>\n    <tr>\n      <td>2018</td>\n      <td>+5,740</td>\n      <td>-3143</td>\n      <td>-2451</td>\n      <td>+98.6</td>\n      <td>+244</td>\n      <td>5778</td>\n    </tr>\n    <tr>\n      <td>2017</td>\n      <td>+5,853</td>\n      <td>-3362</td>\n      <td>-2157</td>\n      <td>-213</td>\n      <td>+121</td>\n      <td>5534</td>\n    </tr>\n    <tr>\n      <td>2016</td>\n      <td>+5,398</td>\n      <td>-3954</td>\n      <td>-1578</td>\n      <td>-80.3</td>\n      <td>-214</td>\n      <td>5413</td>\n    </tr>\n  </tbody>\n</table>\n</div>"
     },
     "metadata": {},
     "execution_count": 15
    }
   ],
   "source": [
    "cash = stock.CashFlow()\n",
    "cash.head()"
   ]
  },
  {
   "cell_type": "code",
   "execution_count": null,
   "metadata": {},
   "outputs": [],
   "source": []
  }
 ]
}